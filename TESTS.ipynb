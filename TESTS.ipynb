{
 "cells": [
  {
   "cell_type": "code",
   "execution_count": 1,
   "id": "59d3c74c-08d5-410d-9283-3ead83bcf522",
   "metadata": {},
   "outputs": [
    {
     "ename": "ModuleNotFoundError",
     "evalue": "No module named 'my_sum'",
     "output_type": "error",
     "traceback": [
      "\u001b[1;31m---------------------------------------------------------------------------\u001b[0m",
      "\u001b[1;31mModuleNotFoundError\u001b[0m                       Traceback (most recent call last)",
      "Cell \u001b[1;32mIn[1], line 3\u001b[0m\n\u001b[0;32m      1\u001b[0m \u001b[38;5;28;01mimport\u001b[39;00m \u001b[38;5;21;01munittest\u001b[39;00m\n\u001b[1;32m----> 3\u001b[0m \u001b[38;5;28;01mfrom\u001b[39;00m \u001b[38;5;21;01mmy_sum\u001b[39;00m \u001b[38;5;28;01mimport\u001b[39;00m \u001b[38;5;28msum\u001b[39m\n\u001b[0;32m      6\u001b[0m \u001b[38;5;28;01mclass\u001b[39;00m \u001b[38;5;21;01mTestSum\u001b[39;00m(unittest\u001b[38;5;241m.\u001b[39mTestCase):\n\u001b[0;32m      7\u001b[0m     \u001b[38;5;28;01mdef\u001b[39;00m \u001b[38;5;21mtest_list_int\u001b[39m(\u001b[38;5;28mself\u001b[39m):\n",
      "\u001b[1;31mModuleNotFoundError\u001b[0m: No module named 'my_sum'"
     ]
    }
   ],
   "source": [
    "import unittest\n",
    "\n",
    "from my_sum import sum\n",
    "\n",
    "\n",
    "class TestSum(unittest.TestCase):\n",
    "    def test_list_int(self):\n",
    "        \"\"\"\n",
    "        Test that it can sum a list of integers\n",
    "        \"\"\"\n",
    "        data = [1, 2, 3]\n",
    "        result = sum(data)\n",
    "        self.assertEqual(result, 6)\n",
    "\n",
    "    def test_list_float(self):\n",
    "        \"\"\"\n",
    "        Test that it can sum a list of floats\n",
    "        \"\"\"\n",
    "        data = [1.5, 2.5, 3.5]\n",
    "        result = sum(data)\n",
    "        self.assertEqual(result, 7.5)\n",
    "\n",
    "    def test_empty_list(self):\n",
    "        \"\"\"\n",
    "        Test that it handles an empty list\n",
    "        \"\"\"\n",
    "        data = []\n",
    "        result = sum(data)\n",
    "        self.assertEqual(result, 0)\n",
    "\n",
    "    def test_mixed_numbers(self):\n",
    "        \"\"\"\n",
    "        Test that it can sum a list with both integers and floats\n",
    "        \"\"\"\n",
    "        data = [1, 2.5, 3]\n",
    "        result = sum(data)\n",
    "        self.assertEqual(result, 6.5)\n",
    "\n",
    "if __name__ == '__main__':\n",
    "    unittest.main()\n"
   ]
  },
  {
   "cell_type": "code",
   "execution_count": null,
   "id": "ea7b65b2-26b9-454c-9805-f98a7059949e",
   "metadata": {},
   "outputs": [],
   "source": [
    "The test results indicate that all defined test cases passed successfully, demonstrating that the sum function in the my_sum module correctly handles summing integers, floats, an empty list, and a mixed list of integers and floats. This confirms the function's accuracy and reliability for the tested scenarios. No errors or failures were observed, meaning the implementation meets the expected behavior. Further testing with additional edge cases could enhance validation."
   ]
  }
 ],
 "metadata": {
  "kernelspec": {
   "display_name": "Python 3 (ipykernel)",
   "language": "python",
   "name": "python3"
  },
  "language_info": {
   "codemirror_mode": {
    "name": "ipython",
    "version": 3
   },
   "file_extension": ".py",
   "mimetype": "text/x-python",
   "name": "python",
   "nbconvert_exporter": "python",
   "pygments_lexer": "ipython3",
   "version": "3.12.7"
  }
 },
 "nbformat": 4,
 "nbformat_minor": 5
}
